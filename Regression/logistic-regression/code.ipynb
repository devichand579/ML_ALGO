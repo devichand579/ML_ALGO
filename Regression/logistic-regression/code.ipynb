{
 "cells": [
  {
   "cell_type": "code",
   "execution_count": 1,
   "metadata": {
    "colab": {
     "base_uri": "https://localhost:8080/"
    },
    "id": "TKcLaXiYpXrH",
    "outputId": "5578582f-41ad-4ce8-fcd6-67bf14773043"
   },
   "outputs": [
    {
     "name": "stdout",
     "output_type": "stream",
     "text": [
      "Mounted at /content/drive\n"
     ]
    }
   ],
   "source": [
    "from google.colab import drive\n",
    "drive.mount('/content/drive')"
   ]
  },
  {
   "cell_type": "markdown",
   "metadata": {
    "id": "5BAEbbGSTEjq"
   },
   "source": [
    "Importing the Required Libraries"
   ]
  },
  {
   "cell_type": "code",
   "execution_count": 2,
   "metadata": {
    "id": "t0WzRzxZpMu3"
   },
   "outputs": [],
   "source": [
    "# import all the necessary libraries here\n",
    "import pandas as pd\n",
    "import numpy as np\n",
    "from sklearn.model_selection import train_test_split\n",
    "import matplotlib.pyplot as plt\n",
    "from sklearn.metrics import precision_score, accuracy_score, recall_score\n"
   ]
  },
  {
   "cell_type": "markdown",
   "metadata": {
    "id": "zktobwYOTIdD"
   },
   "source": [
    "Importing the data into a pandas dataframe"
   ]
  },
  {
   "cell_type": "code",
   "execution_count": 3,
   "metadata": {
    "colab": {
     "base_uri": "https://localhost:8080/"
    },
    "id": "XknqiZP6pMu4",
    "outputId": "c6327ecc-aef5-4131-8969-f3dd5b22c046"
   },
   "outputs": [
    {
     "name": "stdout",
     "output_type": "stream",
     "text": [
      "(2500, 13)\n"
     ]
    }
   ],
   "source": [
    "df = pd.read_excel('/content/drive/MyDrive/asssign1/dataset/logistic-regression/Pumpkin_Seeds_Dataset.xlsx')\n",
    "print(df.shape)"
   ]
  },
  {
   "cell_type": "markdown",
   "metadata": {
    "id": "oxHg__KJTNMf"
   },
   "source": [
    "Viewing the First 10 samples of the data"
   ]
  },
  {
   "cell_type": "code",
   "execution_count": 4,
   "metadata": {
    "colab": {
     "base_uri": "https://localhost:8080/",
     "height": 363
    },
    "id": "Z4Qvrdu3pMu5",
    "outputId": "1102d791-11b2-4df7-bbba-caa77a665da4"
   },
   "outputs": [
    {
     "data": {
      "text/html": [
       "\n",
       "\n",
       "  <div id=\"df-c6405720-07c7-4ae5-8cce-34d30407495c\">\n",
       "    <div class=\"colab-df-container\">\n",
       "      <div>\n",
       "<style scoped>\n",
       "    .dataframe tbody tr th:only-of-type {\n",
       "        vertical-align: middle;\n",
       "    }\n",
       "\n",
       "    .dataframe tbody tr th {\n",
       "        vertical-align: top;\n",
       "    }\n",
       "\n",
       "    .dataframe thead th {\n",
       "        text-align: right;\n",
       "    }\n",
       "</style>\n",
       "<table border=\"1\" class=\"dataframe\">\n",
       "  <thead>\n",
       "    <tr style=\"text-align: right;\">\n",
       "      <th></th>\n",
       "      <th>Area</th>\n",
       "      <th>Perimeter</th>\n",
       "      <th>Major_Axis_Length</th>\n",
       "      <th>Minor_Axis_Length</th>\n",
       "      <th>Convex_Area</th>\n",
       "      <th>Equiv_Diameter</th>\n",
       "      <th>Eccentricity</th>\n",
       "      <th>Solidity</th>\n",
       "      <th>Extent</th>\n",
       "      <th>Roundness</th>\n",
       "      <th>Aspect_Ration</th>\n",
       "      <th>Compactness</th>\n",
       "      <th>Class</th>\n",
       "    </tr>\n",
       "  </thead>\n",
       "  <tbody>\n",
       "    <tr>\n",
       "      <th>0</th>\n",
       "      <td>56276</td>\n",
       "      <td>888.242</td>\n",
       "      <td>326.1485</td>\n",
       "      <td>220.2388</td>\n",
       "      <td>56831</td>\n",
       "      <td>267.6805</td>\n",
       "      <td>0.7376</td>\n",
       "      <td>0.9902</td>\n",
       "      <td>0.7453</td>\n",
       "      <td>0.8963</td>\n",
       "      <td>1.4809</td>\n",
       "      <td>0.8207</td>\n",
       "      <td>Çerçevelik</td>\n",
       "    </tr>\n",
       "    <tr>\n",
       "      <th>1</th>\n",
       "      <td>76631</td>\n",
       "      <td>1068.146</td>\n",
       "      <td>417.1932</td>\n",
       "      <td>234.2289</td>\n",
       "      <td>77280</td>\n",
       "      <td>312.3614</td>\n",
       "      <td>0.8275</td>\n",
       "      <td>0.9916</td>\n",
       "      <td>0.7151</td>\n",
       "      <td>0.8440</td>\n",
       "      <td>1.7811</td>\n",
       "      <td>0.7487</td>\n",
       "      <td>Çerçevelik</td>\n",
       "    </tr>\n",
       "    <tr>\n",
       "      <th>2</th>\n",
       "      <td>71623</td>\n",
       "      <td>1082.987</td>\n",
       "      <td>435.8328</td>\n",
       "      <td>211.0457</td>\n",
       "      <td>72663</td>\n",
       "      <td>301.9822</td>\n",
       "      <td>0.8749</td>\n",
       "      <td>0.9857</td>\n",
       "      <td>0.7400</td>\n",
       "      <td>0.7674</td>\n",
       "      <td>2.0651</td>\n",
       "      <td>0.6929</td>\n",
       "      <td>Çerçevelik</td>\n",
       "    </tr>\n",
       "    <tr>\n",
       "      <th>3</th>\n",
       "      <td>66458</td>\n",
       "      <td>992.051</td>\n",
       "      <td>381.5638</td>\n",
       "      <td>222.5322</td>\n",
       "      <td>67118</td>\n",
       "      <td>290.8899</td>\n",
       "      <td>0.8123</td>\n",
       "      <td>0.9902</td>\n",
       "      <td>0.7396</td>\n",
       "      <td>0.8486</td>\n",
       "      <td>1.7146</td>\n",
       "      <td>0.7624</td>\n",
       "      <td>Çerçevelik</td>\n",
       "    </tr>\n",
       "    <tr>\n",
       "      <th>4</th>\n",
       "      <td>66107</td>\n",
       "      <td>998.146</td>\n",
       "      <td>383.8883</td>\n",
       "      <td>220.4545</td>\n",
       "      <td>67117</td>\n",
       "      <td>290.1207</td>\n",
       "      <td>0.8187</td>\n",
       "      <td>0.9850</td>\n",
       "      <td>0.6752</td>\n",
       "      <td>0.8338</td>\n",
       "      <td>1.7413</td>\n",
       "      <td>0.7557</td>\n",
       "      <td>Çerçevelik</td>\n",
       "    </tr>\n",
       "    <tr>\n",
       "      <th>5</th>\n",
       "      <td>73191</td>\n",
       "      <td>1041.460</td>\n",
       "      <td>405.8132</td>\n",
       "      <td>231.4261</td>\n",
       "      <td>73969</td>\n",
       "      <td>305.2698</td>\n",
       "      <td>0.8215</td>\n",
       "      <td>0.9895</td>\n",
       "      <td>0.7165</td>\n",
       "      <td>0.8480</td>\n",
       "      <td>1.7535</td>\n",
       "      <td>0.7522</td>\n",
       "      <td>Çerçevelik</td>\n",
       "    </tr>\n",
       "    <tr>\n",
       "      <th>6</th>\n",
       "      <td>73338</td>\n",
       "      <td>1020.055</td>\n",
       "      <td>392.2516</td>\n",
       "      <td>238.5494</td>\n",
       "      <td>73859</td>\n",
       "      <td>305.5762</td>\n",
       "      <td>0.7938</td>\n",
       "      <td>0.9929</td>\n",
       "      <td>0.7187</td>\n",
       "      <td>0.8857</td>\n",
       "      <td>1.6443</td>\n",
       "      <td>0.7790</td>\n",
       "      <td>Çerçevelik</td>\n",
       "    </tr>\n",
       "    <tr>\n",
       "      <th>7</th>\n",
       "      <td>69692</td>\n",
       "      <td>1049.108</td>\n",
       "      <td>421.4875</td>\n",
       "      <td>211.7707</td>\n",
       "      <td>70442</td>\n",
       "      <td>297.8836</td>\n",
       "      <td>0.8646</td>\n",
       "      <td>0.9894</td>\n",
       "      <td>0.6736</td>\n",
       "      <td>0.7957</td>\n",
       "      <td>1.9903</td>\n",
       "      <td>0.7067</td>\n",
       "      <td>Çerçevelik</td>\n",
       "    </tr>\n",
       "    <tr>\n",
       "      <th>8</th>\n",
       "      <td>95727</td>\n",
       "      <td>1231.609</td>\n",
       "      <td>488.1199</td>\n",
       "      <td>251.3086</td>\n",
       "      <td>96831</td>\n",
       "      <td>349.1180</td>\n",
       "      <td>0.8573</td>\n",
       "      <td>0.9886</td>\n",
       "      <td>0.6188</td>\n",
       "      <td>0.7930</td>\n",
       "      <td>1.9423</td>\n",
       "      <td>0.7152</td>\n",
       "      <td>Çerçevelik</td>\n",
       "    </tr>\n",
       "    <tr>\n",
       "      <th>9</th>\n",
       "      <td>73465</td>\n",
       "      <td>1047.767</td>\n",
       "      <td>413.6504</td>\n",
       "      <td>227.2644</td>\n",
       "      <td>74089</td>\n",
       "      <td>305.8407</td>\n",
       "      <td>0.8356</td>\n",
       "      <td>0.9916</td>\n",
       "      <td>0.7443</td>\n",
       "      <td>0.8409</td>\n",
       "      <td>1.8201</td>\n",
       "      <td>0.7394</td>\n",
       "      <td>Çerçevelik</td>\n",
       "    </tr>\n",
       "  </tbody>\n",
       "</table>\n",
       "</div>\n",
       "      <button class=\"colab-df-convert\" onclick=\"convertToInteractive('df-c6405720-07c7-4ae5-8cce-34d30407495c')\"\n",
       "              title=\"Convert this dataframe to an interactive table.\"\n",
       "              style=\"display:none;\">\n",
       "\n",
       "  <svg xmlns=\"http://www.w3.org/2000/svg\" height=\"24px\"viewBox=\"0 0 24 24\"\n",
       "       width=\"24px\">\n",
       "    <path d=\"M0 0h24v24H0V0z\" fill=\"none\"/>\n",
       "    <path d=\"M18.56 5.44l.94 2.06.94-2.06 2.06-.94-2.06-.94-.94-2.06-.94 2.06-2.06.94zm-11 1L8.5 8.5l.94-2.06 2.06-.94-2.06-.94L8.5 2.5l-.94 2.06-2.06.94zm10 10l.94 2.06.94-2.06 2.06-.94-2.06-.94-.94-2.06-.94 2.06-2.06.94z\"/><path d=\"M17.41 7.96l-1.37-1.37c-.4-.4-.92-.59-1.43-.59-.52 0-1.04.2-1.43.59L10.3 9.45l-7.72 7.72c-.78.78-.78 2.05 0 2.83L4 21.41c.39.39.9.59 1.41.59.51 0 1.02-.2 1.41-.59l7.78-7.78 2.81-2.81c.8-.78.8-2.07 0-2.86zM5.41 20L4 18.59l7.72-7.72 1.47 1.35L5.41 20z\"/>\n",
       "  </svg>\n",
       "      </button>\n",
       "\n",
       "\n",
       "\n",
       "    <div id=\"df-e75b39d4-c4d0-4a29-8e65-189e7185cdb9\">\n",
       "      <button class=\"colab-df-quickchart\" onclick=\"quickchart('df-e75b39d4-c4d0-4a29-8e65-189e7185cdb9')\"\n",
       "              title=\"Suggest charts.\"\n",
       "              style=\"display:none;\">\n",
       "\n",
       "<svg xmlns=\"http://www.w3.org/2000/svg\" height=\"24px\"viewBox=\"0 0 24 24\"\n",
       "     width=\"24px\">\n",
       "    <g>\n",
       "        <path d=\"M19 3H5c-1.1 0-2 .9-2 2v14c0 1.1.9 2 2 2h14c1.1 0 2-.9 2-2V5c0-1.1-.9-2-2-2zM9 17H7v-7h2v7zm4 0h-2V7h2v10zm4 0h-2v-4h2v4z\"/>\n",
       "    </g>\n",
       "</svg>\n",
       "      </button>\n",
       "    </div>\n",
       "\n",
       "<style>\n",
       "  .colab-df-quickchart {\n",
       "    background-color: #E8F0FE;\n",
       "    border: none;\n",
       "    border-radius: 50%;\n",
       "    cursor: pointer;\n",
       "    display: none;\n",
       "    fill: #1967D2;\n",
       "    height: 32px;\n",
       "    padding: 0 0 0 0;\n",
       "    width: 32px;\n",
       "  }\n",
       "\n",
       "  .colab-df-quickchart:hover {\n",
       "    background-color: #E2EBFA;\n",
       "    box-shadow: 0px 1px 2px rgba(60, 64, 67, 0.3), 0px 1px 3px 1px rgba(60, 64, 67, 0.15);\n",
       "    fill: #174EA6;\n",
       "  }\n",
       "\n",
       "  [theme=dark] .colab-df-quickchart {\n",
       "    background-color: #3B4455;\n",
       "    fill: #D2E3FC;\n",
       "  }\n",
       "\n",
       "  [theme=dark] .colab-df-quickchart:hover {\n",
       "    background-color: #434B5C;\n",
       "    box-shadow: 0px 1px 3px 1px rgba(0, 0, 0, 0.15);\n",
       "    filter: drop-shadow(0px 1px 2px rgba(0, 0, 0, 0.3));\n",
       "    fill: #FFFFFF;\n",
       "  }\n",
       "</style>\n",
       "\n",
       "    <script>\n",
       "      async function quickchart(key) {\n",
       "        const containerElement = document.querySelector('#' + key);\n",
       "        const charts = await google.colab.kernel.invokeFunction(\n",
       "            'suggestCharts', [key], {});\n",
       "      }\n",
       "    </script>\n",
       "\n",
       "\n",
       "      <script>\n",
       "\n",
       "function displayQuickchartButton(domScope) {\n",
       "  let quickchartButtonEl =\n",
       "    domScope.querySelector('#df-e75b39d4-c4d0-4a29-8e65-189e7185cdb9 button.colab-df-quickchart');\n",
       "  quickchartButtonEl.style.display =\n",
       "    google.colab.kernel.accessAllowed ? 'block' : 'none';\n",
       "}\n",
       "\n",
       "        displayQuickchartButton(document);\n",
       "      </script>\n",
       "      <style>\n",
       "    .colab-df-container {\n",
       "      display:flex;\n",
       "      flex-wrap:wrap;\n",
       "      gap: 12px;\n",
       "    }\n",
       "\n",
       "    .colab-df-convert {\n",
       "      background-color: #E8F0FE;\n",
       "      border: none;\n",
       "      border-radius: 50%;\n",
       "      cursor: pointer;\n",
       "      display: none;\n",
       "      fill: #1967D2;\n",
       "      height: 32px;\n",
       "      padding: 0 0 0 0;\n",
       "      width: 32px;\n",
       "    }\n",
       "\n",
       "    .colab-df-convert:hover {\n",
       "      background-color: #E2EBFA;\n",
       "      box-shadow: 0px 1px 2px rgba(60, 64, 67, 0.3), 0px 1px 3px 1px rgba(60, 64, 67, 0.15);\n",
       "      fill: #174EA6;\n",
       "    }\n",
       "\n",
       "    [theme=dark] .colab-df-convert {\n",
       "      background-color: #3B4455;\n",
       "      fill: #D2E3FC;\n",
       "    }\n",
       "\n",
       "    [theme=dark] .colab-df-convert:hover {\n",
       "      background-color: #434B5C;\n",
       "      box-shadow: 0px 1px 3px 1px rgba(0, 0, 0, 0.15);\n",
       "      filter: drop-shadow(0px 1px 2px rgba(0, 0, 0, 0.3));\n",
       "      fill: #FFFFFF;\n",
       "    }\n",
       "  </style>\n",
       "\n",
       "      <script>\n",
       "        const buttonEl =\n",
       "          document.querySelector('#df-c6405720-07c7-4ae5-8cce-34d30407495c button.colab-df-convert');\n",
       "        buttonEl.style.display =\n",
       "          google.colab.kernel.accessAllowed ? 'block' : 'none';\n",
       "\n",
       "        async function convertToInteractive(key) {\n",
       "          const element = document.querySelector('#df-c6405720-07c7-4ae5-8cce-34d30407495c');\n",
       "          const dataTable =\n",
       "            await google.colab.kernel.invokeFunction('convertToInteractive',\n",
       "                                                     [key], {});\n",
       "          if (!dataTable) return;\n",
       "\n",
       "          const docLinkHtml = 'Like what you see? Visit the ' +\n",
       "            '<a target=\"_blank\" href=https://colab.research.google.com/notebooks/data_table.ipynb>data table notebook</a>'\n",
       "            + ' to learn more about interactive tables.';\n",
       "          element.innerHTML = '';\n",
       "          dataTable['output_type'] = 'display_data';\n",
       "          await google.colab.output.renderOutput(dataTable, element);\n",
       "          const docLink = document.createElement('div');\n",
       "          docLink.innerHTML = docLinkHtml;\n",
       "          element.appendChild(docLink);\n",
       "        }\n",
       "      </script>\n",
       "    </div>\n",
       "  </div>\n"
      ],
      "text/plain": [
       "    Area  Perimeter  Major_Axis_Length  Minor_Axis_Length  Convex_Area  \\\n",
       "0  56276    888.242           326.1485           220.2388        56831   \n",
       "1  76631   1068.146           417.1932           234.2289        77280   \n",
       "2  71623   1082.987           435.8328           211.0457        72663   \n",
       "3  66458    992.051           381.5638           222.5322        67118   \n",
       "4  66107    998.146           383.8883           220.4545        67117   \n",
       "5  73191   1041.460           405.8132           231.4261        73969   \n",
       "6  73338   1020.055           392.2516           238.5494        73859   \n",
       "7  69692   1049.108           421.4875           211.7707        70442   \n",
       "8  95727   1231.609           488.1199           251.3086        96831   \n",
       "9  73465   1047.767           413.6504           227.2644        74089   \n",
       "\n",
       "   Equiv_Diameter  Eccentricity  Solidity  Extent  Roundness  Aspect_Ration  \\\n",
       "0        267.6805        0.7376    0.9902  0.7453     0.8963         1.4809   \n",
       "1        312.3614        0.8275    0.9916  0.7151     0.8440         1.7811   \n",
       "2        301.9822        0.8749    0.9857  0.7400     0.7674         2.0651   \n",
       "3        290.8899        0.8123    0.9902  0.7396     0.8486         1.7146   \n",
       "4        290.1207        0.8187    0.9850  0.6752     0.8338         1.7413   \n",
       "5        305.2698        0.8215    0.9895  0.7165     0.8480         1.7535   \n",
       "6        305.5762        0.7938    0.9929  0.7187     0.8857         1.6443   \n",
       "7        297.8836        0.8646    0.9894  0.6736     0.7957         1.9903   \n",
       "8        349.1180        0.8573    0.9886  0.6188     0.7930         1.9423   \n",
       "9        305.8407        0.8356    0.9916  0.7443     0.8409         1.8201   \n",
       "\n",
       "   Compactness       Class  \n",
       "0       0.8207  Çerçevelik  \n",
       "1       0.7487  Çerçevelik  \n",
       "2       0.6929  Çerçevelik  \n",
       "3       0.7624  Çerçevelik  \n",
       "4       0.7557  Çerçevelik  \n",
       "5       0.7522  Çerçevelik  \n",
       "6       0.7790  Çerçevelik  \n",
       "7       0.7067  Çerçevelik  \n",
       "8       0.7152  Çerçevelik  \n",
       "9       0.7394  Çerçevelik  "
      ]
     },
     "execution_count": 4,
     "metadata": {},
     "output_type": "execute_result"
    }
   ],
   "source": [
    "df.head(10)"
   ]
  },
  {
   "cell_type": "markdown",
   "metadata": {
    "id": "7I1kf9bNTX3j"
   },
   "source": [
    "Splitting the data frame into Features and output targets in numpy array format"
   ]
  },
  {
   "cell_type": "code",
   "execution_count": 5,
   "metadata": {
    "id": "0qk8cIYCaUgE"
   },
   "outputs": [],
   "source": [
    "x_train=np.array(df.iloc[:,:12])\n",
    "y_train=np.array(df.iloc[:,12])"
   ]
  },
  {
   "cell_type": "markdown",
   "metadata": {
    "id": "PQwdtV7ITeY5"
   },
   "source": [
    "Shape of input features:\n",
    "\n",
    "*   Total number of samples :2500\n",
    "*   Total number of Features : 12"
   ]
  },
  {
   "cell_type": "code",
   "execution_count": 6,
   "metadata": {
    "colab": {
     "base_uri": "https://localhost:8080/"
    },
    "id": "mI7ukzucaUjJ",
    "outputId": "5651d321-1ecb-430e-ce16-b78620287f4e"
   },
   "outputs": [
    {
     "data": {
      "text/plain": [
       "(2500, 12)"
      ]
     },
     "execution_count": 6,
     "metadata": {},
     "output_type": "execute_result"
    }
   ],
   "source": [
    "x_train.shape"
   ]
  },
  {
   "cell_type": "code",
   "execution_count": 7,
   "metadata": {
    "colab": {
     "base_uri": "https://localhost:8080/"
    },
    "id": "1Z05w3rHaUlQ",
    "outputId": "44c90727-0a2c-4d4d-edac-96334d72b4cc"
   },
   "outputs": [
    {
     "data": {
      "text/plain": [
       "array([[5.627600e+04, 8.882420e+02, 3.261485e+02, ..., 8.963000e-01,\n",
       "        1.480900e+00, 8.207000e-01],\n",
       "       [7.663100e+04, 1.068146e+03, 4.171932e+02, ..., 8.440000e-01,\n",
       "        1.781100e+00, 7.487000e-01],\n",
       "       [7.162300e+04, 1.082987e+03, 4.358328e+02, ..., 7.674000e-01,\n",
       "        2.065100e+00, 6.929000e-01],\n",
       "       ...,\n",
       "       [8.799400e+04, 1.210314e+03, 5.072200e+02, ..., 7.549000e-01,\n",
       "        2.282800e+00, 6.599000e-01],\n",
       "       [8.001100e+04, 1.182947e+03, 5.019065e+02, ..., 7.185000e-01,\n",
       "        2.451300e+00, 6.359000e-01],\n",
       "       [8.493400e+04, 1.159933e+03, 4.628951e+02, ..., 7.933000e-01,\n",
       "        1.973500e+00, 7.104000e-01]])"
      ]
     },
     "execution_count": 7,
     "metadata": {},
     "output_type": "execute_result"
    }
   ],
   "source": [
    "x_train"
   ]
  },
  {
   "cell_type": "markdown",
   "metadata": {
    "id": "nfuY6op1Tliv"
   },
   "source": [
    "Shape of output target:\n",
    "\n",
    "*  total number of samples :2500"
   ]
  },
  {
   "cell_type": "code",
   "execution_count": 7,
   "metadata": {
    "colab": {
     "base_uri": "https://localhost:8080/"
    },
    "id": "CsPN_ZmYaUnv",
    "outputId": "d0dc7736-ad5a-46fc-ac25-8074fa8fea2a"
   },
   "outputs": [
    {
     "data": {
      "text/plain": [
       "(2500,)"
      ]
     },
     "execution_count": 7,
     "metadata": {},
     "output_type": "execute_result"
    }
   ],
   "source": [
    "y_train.shape"
   ]
  },
  {
   "cell_type": "code",
   "execution_count": 8,
   "metadata": {
    "colab": {
     "base_uri": "https://localhost:8080/"
    },
    "id": "oN5FA6E9aUpO",
    "outputId": "3b43ce6e-4d16-4cb0-fce5-997f01d8b936"
   },
   "outputs": [
    {
     "data": {
      "text/plain": [
       "array(['Çerçevelik', 'Çerçevelik', 'Çerçevelik', ..., 'Ürgüp Sivrisi',\n",
       "       'Ürgüp Sivrisi', 'Ürgüp Sivrisi'], dtype=object)"
      ]
     },
     "execution_count": 8,
     "metadata": {},
     "output_type": "execute_result"
    }
   ],
   "source": [
    "y_train"
   ]
  },
  {
   "cell_type": "markdown",
   "metadata": {
    "id": "dFMSV4HATukP"
   },
   "source": [
    "function for normalising the input data"
   ]
  },
  {
   "cell_type": "code",
   "execution_count": 9,
   "metadata": {
    "id": "4NLR0wH7TtWW"
   },
   "outputs": [],
   "source": [
    "def normalise(x):\n",
    "  mean = np.mean(x,axis=0)\n",
    "  sigma = np.std(x,axis=0)\n",
    "  x = (x-mean)/sigma\n",
    "  return x"
   ]
  },
  {
   "cell_type": "markdown",
   "metadata": {
    "id": "-CSscEm_T1tz"
   },
   "source": [
    "normalising the data"
   ]
  },
  {
   "cell_type": "code",
   "execution_count": 10,
   "metadata": {
    "colab": {
     "base_uri": "https://localhost:8080/"
    },
    "id": "1cnU2BAaT06_",
    "outputId": "97d91b83-be04-4ec9-ca9c-dccede437f4a"
   },
   "outputs": [
    {
     "data": {
      "text/plain": [
       "array([[-1.78470346, -2.21575484, -2.32022415, ...,  1.8737626 ,\n",
       "        -1.77506344,  2.19727996],\n",
       "       [-0.29478016, -0.56880361, -0.70091635, ...,  0.93837685,\n",
       "        -0.82486401,  0.84023019],\n",
       "       [-0.66135033, -0.43294002, -0.36939513, ..., -0.43161453,\n",
       "         0.07405883, -0.21148339],\n",
       "       ...,\n",
       "       [ 0.53695644,  0.7326892 ,  0.90028724, ..., -0.65517709,\n",
       "         0.76312751, -0.83346454],\n",
       "       [-0.04737457,  0.48215494,  0.8057821 , ..., -1.30619127,\n",
       "         1.29646729, -1.28581446],\n",
       "       [ 0.31297387,  0.27147071,  0.11193101, ...,  0.0316071 ,\n",
       "        -0.21587543,  0.1183551 ]])"
      ]
     },
     "execution_count": 10,
     "metadata": {},
     "output_type": "execute_result"
    }
   ],
   "source": [
    "x_train = normalise(x_train)\n",
    "x_train"
   ]
  },
  {
   "cell_type": "markdown",
   "metadata": {
    "id": "n1ZHAUiMT8jp"
   },
   "source": [
    "encoding the output labels"
   ]
  },
  {
   "cell_type": "code",
   "execution_count": 11,
   "metadata": {
    "colab": {
     "base_uri": "https://localhost:8080/"
    },
    "id": "pPemVt5Fb0XD",
    "outputId": "5477193a-a273-447e-b5ed-3faf6e83c94b"
   },
   "outputs": [
    {
     "data": {
      "text/plain": [
       "array([1, 1, 1, ..., 0, 0, 0])"
      ]
     },
     "execution_count": 11,
     "metadata": {},
     "output_type": "execute_result"
    }
   ],
   "source": [
    "y_train = np.array([1 if label == 'Çerçevelik' else 0 for label in y_train])\n",
    "y_train"
   ]
  },
  {
   "cell_type": "markdown",
   "metadata": {
    "id": "GfECGk7gULt8"
   },
   "source": [
    "Splitting the data into training ,validation and test datasets"
   ]
  },
  {
   "cell_type": "code",
   "execution_count": 12,
   "metadata": {
    "id": "GzQ8BPuAawEX"
   },
   "outputs": [],
   "source": [
    "X_train_temp, X_test, y_train_temp, y_test = train_test_split(x_train, y_train, test_size=0.2)\n",
    "X_train, X_val, y_train, y_val = train_test_split(X_train_temp, y_train_temp, test_size=0.375)"
   ]
  },
  {
   "cell_type": "code",
   "execution_count": 13,
   "metadata": {
    "colab": {
     "base_uri": "https://localhost:8080/"
    },
    "id": "sBp1Ob6_awHV",
    "outputId": "76b5e8f2-0c2b-4950-aace-e6437bd05c46"
   },
   "outputs": [
    {
     "name": "stdout",
     "output_type": "stream",
     "text": [
      "The size of train data is  (1250, 12)\n",
      "The size of validation data is  (750, 12)\n",
      "The size of test data is  (500, 12)\n"
     ]
    }
   ],
   "source": [
    "a=X_train.shape\n",
    "b=X_val.shape\n",
    "c=X_test.shape\n",
    "print(\"The size of train data is \",a)\n",
    "print(\"The size of validation data is \",b)\n",
    "print(\"The size of test data is \",c)"
   ]
  },
  {
   "cell_type": "code",
   "execution_count": 14,
   "metadata": {
    "colab": {
     "base_uri": "https://localhost:8080/"
    },
    "id": "HDrO7mIPawJ8",
    "outputId": "543593c7-75e9-45c2-a484-9f2e2e31f0b5"
   },
   "outputs": [
    {
     "name": "stdout",
     "output_type": "stream",
     "text": [
      "The size of train data is  (1250, 1)\n",
      "The size of validation data is  (750, 1)\n",
      "The size of test data is  (500, 1)\n"
     ]
    }
   ],
   "source": [
    "\n",
    "y_train = y_train.reshape(-1,1)\n",
    "y_val = y_val.reshape(-1,1)\n",
    "y_test = y_test.reshape(-1,1)\n",
    "a=y_train.shape\n",
    "b=y_val.shape\n",
    "c=y_test.shape\n",
    "print(\"The size of train data is \",a)\n",
    "print(\"The size of validation data is \",b)\n",
    "print(\"The size of test data is \",c)\n"
   ]
  },
  {
   "cell_type": "markdown",
   "metadata": {
    "id": "HaWSv4weUNXc"
   },
   "source": [
    "Sigmoid Function"
   ]
  },
  {
   "cell_type": "code",
   "execution_count": 15,
   "metadata": {
    "id": "MAVYh1ZBawMk"
   },
   "outputs": [],
   "source": [
    "def sigmoid(z):\n",
    "    g = 1/(1+np.exp(-z))\n",
    "    return g"
   ]
  },
  {
   "cell_type": "markdown",
   "metadata": {
    "id": "eBvJUSFRUWZl"
   },
   "source": [
    "Logistic Loss Function:\n",
    "\n",
    "\n",
    "\n",
    "\n",
    "![Screenshot 2023-08-17 at 9.58.13 PM.png](data:image/png;base64,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)"
   ]
  },
  {
   "cell_type": "code",
   "execution_count": 16,
   "metadata": {
    "id": "5bPrrjWvawPC"
   },
   "outputs": [],
   "source": [
    "def cost_logistic(X, y, w, b):\n",
    "    m = X.shape[0]\n",
    "    cost = 0.0\n",
    "    for i in range(m):\n",
    "        z_i = np.dot(X[i],w) + b\n",
    "        f_wb_i = sigmoid(z_i)\n",
    "\n",
    "        cost +=  -y[i]*np.log(f_wb_i) - (1-y[i])*np.log(1-f_wb_i)\n",
    "\n",
    "    cost = cost / m\n",
    "    return cost"
   ]
  },
  {
   "cell_type": "markdown",
   "metadata": {
    "id": "hO7VEdT6VTV5"
   },
   "source": [
    "Gradient Descent:\n",
    "\n",
    "\n",
    "\n",
    "\n",
    "![Screenshot 2023-08-17 at 9.59.30 PM.png](data:image/png;base64,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)\n",
    "\n"
   ]
  },
  {
   "cell_type": "code",
   "execution_count": 17,
   "metadata": {
    "id": "7o__d2kyawR2"
   },
   "outputs": [],
   "source": [
    "def gradient_logistic(X, y, w, b):\n",
    "    m,n = X.shape\n",
    "    dj_dw = np.zeros((n,1))\n",
    "    dj_db = 0.\n",
    "\n",
    "    for i in range(m):\n",
    "        f_wb_i = sigmoid(np.dot(X[i],w) + b)\n",
    "        err_i  = f_wb_i  - y[i]\n",
    "        for j in range(n):\n",
    "            dj_dw[j] = dj_dw[j] + err_i * X[i,j]\n",
    "        dj_db = dj_db + err_i\n",
    "    dj_dw = dj_dw/m\n",
    "    dj_db = dj_db/m\n",
    "\n",
    "    return dj_db, dj_dw"
   ]
  },
  {
   "cell_type": "markdown",
   "metadata": {
    "id": "bGaXwho6WXjS"
   },
   "source": [
    "Implementation of Gradient Descent"
   ]
  },
  {
   "cell_type": "code",
   "execution_count": 23,
   "metadata": {
    "id": "vyPAfnNjawUp"
   },
   "outputs": [],
   "source": [
    "def gradient_descent(x,y,x_val,y_val,w_in,b_in,alpha,num):\n",
    "\n",
    "    losses_train = []\n",
    "    losses_valid =[]\n",
    "    w = w_in\n",
    "    b = b_in\n",
    "\n",
    "    for i in range(num):\n",
    "        dj_db, dj_dw = gradient_logistic(x, y, w, b)\n",
    "        w = w - alpha * dj_dw\n",
    "        b = b - alpha * dj_db\n",
    "        loss = cost_logistic(x,y,w,b)\n",
    "        losses_train.append(loss)\n",
    "        y_pred_1 = np.dot(x_val,w) + b\n",
    "        y_pred = np.where(y_pred_1>0.5,1,0)\n",
    "        precision = precision_score(y_val,y_pred,zero_division=1)\n",
    "        recall = recall_score(y_val,y_pred)\n",
    "        accuracy = accuracy_score(y_val,y_pred)\n",
    "        loss = cost_logistic(x_val,y_val,w,b)\n",
    "        losses_valid.append(loss)\n",
    "        if i%10==0:\n",
    "           print(\"epoch:\",i,\"validation loss : \",loss ,\"validation accuracy:\",accuracy,\"validation precision:\",precision,\"validation recall:\",recall)\n",
    "\n",
    "    return w, b, losses_train,losses_valid"
   ]
  },
  {
   "cell_type": "markdown",
   "metadata": {
    "id": "uwyXlbe2XeIz"
   },
   "source": [
    "Initilaising the weights and bias and applying  gradient descent to optimize the Logistic Loss"
   ]
  },
  {
   "cell_type": "code",
   "execution_count": 24,
   "metadata": {
    "colab": {
     "base_uri": "https://localhost:8080/"
    },
    "id": "SDcW5lMsawXe",
    "outputId": "ee268cbf-1f27-418b-949a-c985ea387954"
   },
   "outputs": [
    {
     "name": "stdout",
     "output_type": "stream",
     "text": [
      "epoch: 0 validation loss :  [0.68621253] validation accuracy: 0.5066666666666667 validation precision: 1.0 validation recall: 0.0\n",
      "epoch: 10 validation loss :  [0.62650353] validation accuracy: 0.508 validation precision: 1.0 validation recall: 0.002702702702702703\n",
      "epoch: 20 validation loss :  [0.58096777] validation accuracy: 0.576 validation precision: 0.9482758620689655 validation recall: 0.14864864864864866\n",
      "epoch: 30 validation loss :  [0.54572127] validation accuracy: 0.6466666666666666 validation precision: 0.9487179487179487 validation recall: 0.3\n",
      "epoch: 40 validation loss :  [0.51795387] validation accuracy: 0.7013333333333334 validation precision: 0.9345238095238095 validation recall: 0.4243243243243243\n",
      "epoch: 50 validation loss :  [0.49568776] validation accuracy: 0.7293333333333333 validation precision: 0.93717277486911 validation recall: 0.4837837837837838\n",
      "epoch: 60 validation loss :  [0.47753534] validation accuracy: 0.7533333333333333 validation precision: 0.9302325581395349 validation recall: 0.5405405405405406\n",
      "epoch: 70 validation loss :  [0.46251412] validation accuracy: 0.772 validation precision: 0.9163179916317992 validation recall: 0.5918918918918918\n",
      "epoch: 80 validation loss :  [0.44991805] validation accuracy: 0.7813333333333333 validation precision: 0.9087301587301587 validation recall: 0.6189189189189189\n",
      "epoch: 90 validation loss :  [0.43923118] validation accuracy: 0.792 validation precision: 0.9083969465648855 validation recall: 0.6432432432432432\n",
      "epoch: 100 validation loss :  [0.43006994] validation accuracy: 0.7946666666666666 validation precision: 0.9 validation recall: 0.6567567567567567\n",
      "epoch: 110 validation loss :  [0.42214444] validation accuracy: 0.8 validation precision: 0.8985507246376812 validation recall: 0.6702702702702703\n",
      "epoch: 120 validation loss :  [0.41523221] validation accuracy: 0.8026666666666666 validation precision: 0.8992805755395683 validation recall: 0.6756756756756757\n",
      "epoch: 130 validation loss :  [0.40916004] validation accuracy: 0.8053333333333333 validation precision: 0.8971631205673759 validation recall: 0.6837837837837838\n",
      "epoch: 140 validation loss :  [0.4037913] validation accuracy: 0.8133333333333334 validation precision: 0.896551724137931 validation recall: 0.7027027027027027\n",
      "epoch: 150 validation loss :  [0.39901691] validation accuracy: 0.8146666666666667 validation precision: 0.89419795221843 validation recall: 0.7081081081081081\n",
      "epoch: 160 validation loss :  [0.39474881] validation accuracy: 0.8186666666666667 validation precision: 0.8926174496644296 validation recall: 0.7189189189189189\n",
      "epoch: 170 validation loss :  [0.39091522] validation accuracy: 0.82 validation precision: 0.8903654485049833 validation recall: 0.7243243243243244\n",
      "epoch: 180 validation loss :  [0.38745704] validation accuracy: 0.824 validation precision: 0.8914473684210527 validation recall: 0.7324324324324324\n",
      "epoch: 190 validation loss :  [0.38432525] validation accuracy: 0.828 validation precision: 0.8925081433224755 validation recall: 0.7405405405405405\n",
      "epoch: 200 validation loss :  [0.38147881] validation accuracy: 0.8266666666666667 validation precision: 0.8896103896103896 validation recall: 0.7405405405405405\n",
      "epoch: 210 validation loss :  [0.37888317] validation accuracy: 0.8266666666666667 validation precision: 0.8846153846153846 validation recall: 0.745945945945946\n",
      "epoch: 220 validation loss :  [0.37650903] validation accuracy: 0.8266666666666667 validation precision: 0.8846153846153846 validation recall: 0.745945945945946\n",
      "epoch: 230 validation loss :  [0.37433137] validation accuracy: 0.828 validation precision: 0.8849840255591054 validation recall: 0.7486486486486487\n",
      "epoch: 240 validation loss :  [0.37232872] validation accuracy: 0.8293333333333334 validation precision: 0.8853503184713376 validation recall: 0.7513513513513513\n",
      "epoch: 250 validation loss :  [0.37048255] validation accuracy: 0.828 validation precision: 0.8801261829652997 validation recall: 0.754054054054054\n",
      "epoch: 260 validation loss :  [0.36877682] validation accuracy: 0.8253333333333334 validation precision: 0.8746081504702194 validation recall: 0.754054054054054\n",
      "epoch: 270 validation loss :  [0.36719753] validation accuracy: 0.824 validation precision: 0.871875 validation recall: 0.754054054054054\n",
      "epoch: 280 validation loss :  [0.36573243] validation accuracy: 0.8266666666666667 validation precision: 0.8726708074534162 validation recall: 0.7594594594594595\n",
      "epoch: 290 validation loss :  [0.36437078] validation accuracy: 0.8266666666666667 validation precision: 0.8726708074534162 validation recall: 0.7594594594594595\n",
      "epoch: 300 validation loss :  [0.36310308] validation accuracy: 0.828 validation precision: 0.8730650154798761 validation recall: 0.7621621621621621\n",
      "epoch: 310 validation loss :  [0.36192095] validation accuracy: 0.8306666666666667 validation precision: 0.8738461538461538 validation recall: 0.7675675675675676\n",
      "epoch: 320 validation loss :  [0.36081693] validation accuracy: 0.8306666666666667 validation precision: 0.8738461538461538 validation recall: 0.7675675675675676\n",
      "epoch: 330 validation loss :  [0.35978439] validation accuracy: 0.8333333333333334 validation precision: 0.8746177370030581 validation recall: 0.772972972972973\n",
      "epoch: 340 validation loss :  [0.35881739] validation accuracy: 0.8333333333333334 validation precision: 0.8746177370030581 validation recall: 0.772972972972973\n",
      "epoch: 350 validation loss :  [0.35791061] validation accuracy: 0.832 validation precision: 0.8719512195121951 validation recall: 0.772972972972973\n",
      "epoch: 360 validation loss :  [0.35705929] validation accuracy: 0.832 validation precision: 0.8719512195121951 validation recall: 0.772972972972973\n",
      "epoch: 370 validation loss :  [0.35625911] validation accuracy: 0.8333333333333334 validation precision: 0.8723404255319149 validation recall: 0.7756756756756756\n",
      "epoch: 380 validation loss :  [0.3555062] validation accuracy: 0.8333333333333334 validation precision: 0.8723404255319149 validation recall: 0.7756756756756756\n",
      "epoch: 390 validation loss :  [0.35479703] validation accuracy: 0.8346666666666667 validation precision: 0.8727272727272727 validation recall: 0.7783783783783784\n",
      "epoch: 400 validation loss :  [0.35412841] validation accuracy: 0.836 validation precision: 0.8731117824773413 validation recall: 0.7810810810810811\n",
      "epoch: 410 validation loss :  [0.35349745] validation accuracy: 0.8346666666666667 validation precision: 0.8704819277108434 validation recall: 0.7810810810810811\n",
      "epoch: 420 validation loss :  [0.3529015] validation accuracy: 0.8346666666666667 validation precision: 0.8704819277108434 validation recall: 0.7810810810810811\n",
      "epoch: 430 validation loss :  [0.35233816] validation accuracy: 0.8346666666666667 validation precision: 0.8704819277108434 validation recall: 0.7810810810810811\n",
      "epoch: 440 validation loss :  [0.35180521] validation accuracy: 0.8346666666666667 validation precision: 0.8704819277108434 validation recall: 0.7810810810810811\n",
      "epoch: 450 validation loss :  [0.35130065] validation accuracy: 0.8346666666666667 validation precision: 0.8704819277108434 validation recall: 0.7810810810810811\n",
      "epoch: 460 validation loss :  [0.35082261] validation accuracy: 0.836 validation precision: 0.8708708708708709 validation recall: 0.7837837837837838\n",
      "epoch: 470 validation loss :  [0.3503694] validation accuracy: 0.836 validation precision: 0.8708708708708709 validation recall: 0.7837837837837838\n",
      "epoch: 480 validation loss :  [0.34993945] validation accuracy: 0.836 validation precision: 0.8708708708708709 validation recall: 0.7837837837837838\n",
      "epoch: 490 validation loss :  [0.34953132] validation accuracy: 0.836 validation precision: 0.8708708708708709 validation recall: 0.7837837837837838\n",
      "epoch: 500 validation loss :  [0.34914367] validation accuracy: 0.836 validation precision: 0.8708708708708709 validation recall: 0.7837837837837838\n",
      "epoch: 510 validation loss :  [0.34877527] validation accuracy: 0.836 validation precision: 0.8708708708708709 validation recall: 0.7837837837837838\n",
      "epoch: 520 validation loss :  [0.34842498] validation accuracy: 0.836 validation precision: 0.8708708708708709 validation recall: 0.7837837837837838\n",
      "epoch: 530 validation loss :  [0.34809174] validation accuracy: 0.8373333333333334 validation precision: 0.8712574850299402 validation recall: 0.7864864864864864\n",
      "epoch: 540 validation loss :  [0.34777458] validation accuracy: 0.836 validation precision: 0.8686567164179104 validation recall: 0.7864864864864864\n",
      "epoch: 550 validation loss :  [0.34747257] validation accuracy: 0.836 validation precision: 0.8686567164179104 validation recall: 0.7864864864864864\n",
      "epoch: 560 validation loss :  [0.34718488] validation accuracy: 0.836 validation precision: 0.8686567164179104 validation recall: 0.7864864864864864\n",
      "epoch: 570 validation loss :  [0.34691072] validation accuracy: 0.836 validation precision: 0.8686567164179104 validation recall: 0.7864864864864864\n",
      "epoch: 580 validation loss :  [0.34664934] validation accuracy: 0.8373333333333334 validation precision: 0.8690476190476191 validation recall: 0.7891891891891892\n",
      "epoch: 590 validation loss :  [0.34640006] validation accuracy: 0.8373333333333334 validation precision: 0.8690476190476191 validation recall: 0.7891891891891892\n",
      "epoch: 600 validation loss :  [0.34616224] validation accuracy: 0.8373333333333334 validation precision: 0.8690476190476191 validation recall: 0.7891891891891892\n",
      "epoch: 610 validation loss :  [0.34593527] validation accuracy: 0.8373333333333334 validation precision: 0.8690476190476191 validation recall: 0.7891891891891892\n",
      "epoch: 620 validation loss :  [0.34571861] validation accuracy: 0.8373333333333334 validation precision: 0.8690476190476191 validation recall: 0.7891891891891892\n",
      "epoch: 630 validation loss :  [0.34551171] validation accuracy: 0.8373333333333334 validation precision: 0.8690476190476191 validation recall: 0.7891891891891892\n",
      "epoch: 640 validation loss :  [0.34531409] validation accuracy: 0.8386666666666667 validation precision: 0.8716417910447761 validation recall: 0.7891891891891892\n",
      "epoch: 650 validation loss :  [0.34512529] validation accuracy: 0.84 validation precision: 0.8720238095238095 validation recall: 0.7918918918918919\n",
      "epoch: 660 validation loss :  [0.34494486] validation accuracy: 0.84 validation precision: 0.8720238095238095 validation recall: 0.7918918918918919\n",
      "epoch: 670 validation loss :  [0.3447724] validation accuracy: 0.8413333333333334 validation precision: 0.8702064896755162 validation recall: 0.7972972972972973\n",
      "epoch: 680 validation loss :  [0.34460752] validation accuracy: 0.8413333333333334 validation precision: 0.8702064896755162 validation recall: 0.7972972972972973\n",
      "epoch: 690 validation loss :  [0.34444986] validation accuracy: 0.8413333333333334 validation precision: 0.8702064896755162 validation recall: 0.7972972972972973\n",
      "epoch: 700 validation loss :  [0.34429908] validation accuracy: 0.8413333333333334 validation precision: 0.8702064896755162 validation recall: 0.7972972972972973\n",
      "epoch: 710 validation loss :  [0.34415486] validation accuracy: 0.8413333333333334 validation precision: 0.8702064896755162 validation recall: 0.7972972972972973\n",
      "epoch: 720 validation loss :  [0.34401689] validation accuracy: 0.8426666666666667 validation precision: 0.8705882352941177 validation recall: 0.8\n",
      "epoch: 730 validation loss :  [0.34388488] validation accuracy: 0.844 validation precision: 0.8709677419354839 validation recall: 0.8027027027027027\n",
      "epoch: 740 validation loss :  [0.34375856] validation accuracy: 0.8453333333333334 validation precision: 0.8713450292397661 validation recall: 0.8054054054054054\n",
      "epoch: 750 validation loss :  [0.34363767] validation accuracy: 0.8453333333333334 validation precision: 0.8713450292397661 validation recall: 0.8054054054054054\n",
      "epoch: 760 validation loss :  [0.34352198] validation accuracy: 0.8453333333333334 validation precision: 0.8713450292397661 validation recall: 0.8054054054054054\n",
      "epoch: 770 validation loss :  [0.34341125] validation accuracy: 0.8453333333333334 validation precision: 0.8713450292397661 validation recall: 0.8054054054054054\n",
      "epoch: 780 validation loss :  [0.34330526] validation accuracy: 0.8453333333333334 validation precision: 0.8713450292397661 validation recall: 0.8054054054054054\n",
      "epoch: 790 validation loss :  [0.3432038] validation accuracy: 0.8453333333333334 validation precision: 0.8713450292397661 validation recall: 0.8054054054054054\n",
      "epoch: 800 validation loss :  [0.34310668] validation accuracy: 0.8453333333333334 validation precision: 0.8713450292397661 validation recall: 0.8054054054054054\n",
      "epoch: 810 validation loss :  [0.34301371] validation accuracy: 0.8453333333333334 validation precision: 0.8713450292397661 validation recall: 0.8054054054054054\n",
      "epoch: 820 validation loss :  [0.34292471] validation accuracy: 0.8453333333333334 validation precision: 0.8713450292397661 validation recall: 0.8054054054054054\n",
      "epoch: 830 validation loss :  [0.34283952] validation accuracy: 0.8453333333333334 validation precision: 0.8713450292397661 validation recall: 0.8054054054054054\n",
      "epoch: 840 validation loss :  [0.34275797] validation accuracy: 0.8453333333333334 validation precision: 0.8713450292397661 validation recall: 0.8054054054054054\n",
      "epoch: 850 validation loss :  [0.34267991] validation accuracy: 0.8453333333333334 validation precision: 0.8713450292397661 validation recall: 0.8054054054054054\n",
      "epoch: 860 validation loss :  [0.34260519] validation accuracy: 0.8453333333333334 validation precision: 0.8713450292397661 validation recall: 0.8054054054054054\n",
      "epoch: 870 validation loss :  [0.34253369] validation accuracy: 0.8453333333333334 validation precision: 0.8713450292397661 validation recall: 0.8054054054054054\n",
      "epoch: 880 validation loss :  [0.34246526] validation accuracy: 0.8466666666666667 validation precision: 0.873900293255132 validation recall: 0.8054054054054054\n",
      "epoch: 890 validation loss :  [0.34239978] validation accuracy: 0.8466666666666667 validation precision: 0.873900293255132 validation recall: 0.8054054054054054\n",
      "epoch: 900 validation loss :  [0.34233712] validation accuracy: 0.848 validation precision: 0.8764705882352941 validation recall: 0.8054054054054054\n",
      "epoch: 910 validation loss :  [0.34227719] validation accuracy: 0.848 validation precision: 0.8764705882352941 validation recall: 0.8054054054054054\n",
      "epoch: 920 validation loss :  [0.34221985] validation accuracy: 0.848 validation precision: 0.8764705882352941 validation recall: 0.8054054054054054\n",
      "epoch: 930 validation loss :  [0.34216502] validation accuracy: 0.848 validation precision: 0.8764705882352941 validation recall: 0.8054054054054054\n",
      "epoch: 940 validation loss :  [0.34211259] validation accuracy: 0.8493333333333334 validation precision: 0.8768328445747801 validation recall: 0.8081081081081081\n",
      "epoch: 950 validation loss :  [0.34206247] validation accuracy: 0.8493333333333334 validation precision: 0.8768328445747801 validation recall: 0.8081081081081081\n",
      "epoch: 960 validation loss :  [0.34201456] validation accuracy: 0.8493333333333334 validation precision: 0.8768328445747801 validation recall: 0.8081081081081081\n",
      "epoch: 970 validation loss :  [0.34196878] validation accuracy: 0.8493333333333334 validation precision: 0.8768328445747801 validation recall: 0.8081081081081081\n",
      "epoch: 980 validation loss :  [0.34192504] validation accuracy: 0.8493333333333334 validation precision: 0.8768328445747801 validation recall: 0.8081081081081081\n",
      "epoch: 990 validation loss :  [0.34188327] validation accuracy: 0.8493333333333334 validation precision: 0.8768328445747801 validation recall: 0.8081081081081081\n"
     ]
    }
   ],
   "source": [
    "initial_w = np.zeros((12,1))\n",
    "initial_b = 0\n",
    "\n",
    "num=1000\n",
    "alpha = 0.01\n",
    "w_final,b_final,loss_train,loss_valid = gradient_descent(X_train,y_train,X_val,y_val,initial_w,initial_b,alpha,num)"
   ]
  },
  {
   "cell_type": "code",
   "execution_count": 25,
   "metadata": {
    "colab": {
     "base_uri": "https://localhost:8080/"
    },
    "id": "lQZTP5OEYWO9",
    "outputId": "db8c2650-86c4-406c-8a30-d2fdf2ed75ee"
   },
   "outputs": [
    {
     "name": "stdout",
     "output_type": "stream",
     "text": [
      "alpha=0.01,epochs=1000\n",
      "precision : 0.8939393939393939\n",
      "Recall : 0.8368794326241135\n",
      "Accuracy : 0.852\n"
     ]
    }
   ],
   "source": [
    "y_pred_1 = np.dot(X_test,w_final) + b_final\n",
    "y_pred = np.where(y_pred_1>0.5,1,0)\n",
    "precision = precision_score(y_test,y_pred,zero_division=1)\n",
    "recall = recall_score(y_test,y_pred)\n",
    "accuracy = accuracy_score(y_test,y_pred)\n",
    "print(\"alpha=0.01,epochs=1000\")\n",
    "print(\"precision :\",precision)\n",
    "print(\"Recall :\",recall )\n",
    "print(\"Accuracy :\",accuracy)"
   ]
  }
 ],
 "metadata": {
  "colab": {
   "provenance": []
  },
  "kernelspec": {
   "display_name": "Python 3 (ipykernel)",
   "language": "python",
   "name": "python3"
  },
  "language_info": {
   "codemirror_mode": {
    "name": "ipython",
    "version": 3
   },
   "file_extension": ".py",
   "mimetype": "text/x-python",
   "name": "python",
   "nbconvert_exporter": "python",
   "pygments_lexer": "ipython3",
   "version": "3.9.12"
  },
  "vscode": {
   "interpreter": {
    "hash": "3067ead486e059ec00ffe7555bdb889e6e264a24dc711bf108106cc7baee8d5d"
   }
  }
 },
 "nbformat": 4,
 "nbformat_minor": 1
}
